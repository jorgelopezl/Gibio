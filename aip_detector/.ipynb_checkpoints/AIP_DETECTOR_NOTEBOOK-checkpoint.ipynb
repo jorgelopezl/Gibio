{
 "cells": [
  {
   "cell_type": "markdown",
   "metadata": {},
   "source": [
    "# Detector versátil de patrones pseudoperiódicos (aip_detector)"
   ]
  },
  {
   "cell_type": "markdown",
   "metadata": {},
   "source": [
    "El presente trabajo es una reinterpretación del algoritmo original creado por Augusto Santini, Mariano LLamedo Soria y E. Diez programado inicialmente en Matlab. El código fuente se encuentra en el siguiente repositorio:\n",
    "\n",
    "https://github.com/marianux/ecg-kit/blob/be4410b70341c6d3c1439f9101491c5446b74944/common/aip_detector.m\n",
    "\n",
    "Para más información, leer el paper relacionado:\n",
    "\"Versatile Detector of Pseudo-periodic Patterns\"\n",
    "\n",
    "Jorge López Luna"
   ]
  },
  {
   "cell_type": "markdown",
   "metadata": {},
   "source": [
    "### Introducción:\n",
    "A lo largo del presente documento, aplicaremos y trataremos de explicar el algoritmo. Cómo se usa, parámetros a tener en cuenta y los resultados esperados."
   ]
  },
  {
   "cell_type": "markdown",
   "metadata": {},
   "source": [
    "### ¿Qué es un ECG?\n",
    "\n",
    "\n",
    "\n",
    "\n",
    "\n",
    "Por lo tanto, comenzamos con el detector, cargando un ecg de una base de datos de libre acceso proveída por:\n",
    "\n",
    "https://physionet.org/"
   ]
  },
  {
   "cell_type": "code",
   "execution_count": null,
   "metadata": {},
   "outputs": [],
   "source": [
    "# Cargamos las librerías a utilizar\n",
    "import pandas as pd\n",
    "import matplotlib.pyplot as plt\n",
    "import numpy as np\n",
    "import wfdb\n",
    "import scipy\n",
    "from scipy.signal import lfilter\n",
    "from scipy.signal import find_peaks\n",
    "\n",
    "# Cargamos el archivo que contiene el ECG\n",
    "da , info = wfdb.rdsamp( '100', pb_dir='mitdb/', sampfrom=0, sampto = 30000 , channels=[0])\n",
    "\n",
    "datos = pd.DataFrame({'hart':da[:,0]})\n"
   ]
  }
 ],
 "metadata": {
  "kernelspec": {
   "display_name": "Python 3",
   "language": "python",
   "name": "python3"
  },
  "language_info": {
   "codemirror_mode": {
    "name": "ipython",
    "version": 3
   },
   "file_extension": ".py",
   "mimetype": "text/x-python",
   "name": "python",
   "nbconvert_exporter": "python",
   "pygments_lexer": "ipython3",
   "version": "3.7.3"
  }
 },
 "nbformat": 4,
 "nbformat_minor": 2
}
